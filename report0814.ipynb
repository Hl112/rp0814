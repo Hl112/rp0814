{
 "cells": [
  {
   "cell_type": "code",
   "execution_count": 1,
   "id": "4bd56619",
   "metadata": {
    "pycharm": {
     "name": "#%%\n"
    }
   },
   "outputs": [],
   "source": [
    "import pandas as pd\n",
    "import numpy as np\n",
    "import matplotlib.pyplot as plt"
   ]
  },
  {
   "cell_type": "code",
   "execution_count": 9,
   "id": "940bb2b4",
   "metadata": {
    "pycharm": {
     "name": "#%%\n"
    }
   },
   "outputs": [
    {
     "data": {
      "text/plain": "         lat         lon        alt  height  heading  pitch  roll  \\\n0  24.807466  121.042053  51.911553     0.0   -133.5    0.0     0   \n1  24.807466  121.042053  51.911553     0.0   -133.5    0.0     0   \n2  24.807466  121.042053  51.911553     0.0   -133.5    0.0     0   \n3  24.807467  121.042053  51.911553     0.0   -133.5    0.0     0   \n4  24.807467  121.042053  51.911553     0.0   -133.5    0.0     0   \n\n             time  co2  tvoc  pm25  pm10  temperature  humidity  \n0  20210518105246  785   214    32    39         33.3      64.3  \n1  20210518105247    0     0     0     0          0.0       0.0  \n2  20210518105248  754   197    32    39         33.3      63.8  \n3  20210518105249    0     0     0     0          0.0       0.0  \n4  20210518105250  743   191    32    39         33.3      63.6  ",
      "text/html": "<div>\n<style scoped>\n    .dataframe tbody tr th:only-of-type {\n        vertical-align: middle;\n    }\n\n    .dataframe tbody tr th {\n        vertical-align: top;\n    }\n\n    .dataframe thead th {\n        text-align: right;\n    }\n</style>\n<table border=\"1\" class=\"dataframe\">\n  <thead>\n    <tr style=\"text-align: right;\">\n      <th></th>\n      <th>lat</th>\n      <th>lon</th>\n      <th>alt</th>\n      <th>height</th>\n      <th>heading</th>\n      <th>pitch</th>\n      <th>roll</th>\n      <th>time</th>\n      <th>co2</th>\n      <th>tvoc</th>\n      <th>pm25</th>\n      <th>pm10</th>\n      <th>temperature</th>\n      <th>humidity</th>\n    </tr>\n  </thead>\n  <tbody>\n    <tr>\n      <th>0</th>\n      <td>24.807466</td>\n      <td>121.042053</td>\n      <td>51.911553</td>\n      <td>0.0</td>\n      <td>-133.5</td>\n      <td>0.0</td>\n      <td>0</td>\n      <td>20210518105246</td>\n      <td>785</td>\n      <td>214</td>\n      <td>32</td>\n      <td>39</td>\n      <td>33.3</td>\n      <td>64.3</td>\n    </tr>\n    <tr>\n      <th>1</th>\n      <td>24.807466</td>\n      <td>121.042053</td>\n      <td>51.911553</td>\n      <td>0.0</td>\n      <td>-133.5</td>\n      <td>0.0</td>\n      <td>0</td>\n      <td>20210518105247</td>\n      <td>0</td>\n      <td>0</td>\n      <td>0</td>\n      <td>0</td>\n      <td>0.0</td>\n      <td>0.0</td>\n    </tr>\n    <tr>\n      <th>2</th>\n      <td>24.807466</td>\n      <td>121.042053</td>\n      <td>51.911553</td>\n      <td>0.0</td>\n      <td>-133.5</td>\n      <td>0.0</td>\n      <td>0</td>\n      <td>20210518105248</td>\n      <td>754</td>\n      <td>197</td>\n      <td>32</td>\n      <td>39</td>\n      <td>33.3</td>\n      <td>63.8</td>\n    </tr>\n    <tr>\n      <th>3</th>\n      <td>24.807467</td>\n      <td>121.042053</td>\n      <td>51.911553</td>\n      <td>0.0</td>\n      <td>-133.5</td>\n      <td>0.0</td>\n      <td>0</td>\n      <td>20210518105249</td>\n      <td>0</td>\n      <td>0</td>\n      <td>0</td>\n      <td>0</td>\n      <td>0.0</td>\n      <td>0.0</td>\n    </tr>\n    <tr>\n      <th>4</th>\n      <td>24.807467</td>\n      <td>121.042053</td>\n      <td>51.911553</td>\n      <td>0.0</td>\n      <td>-133.5</td>\n      <td>0.0</td>\n      <td>0</td>\n      <td>20210518105250</td>\n      <td>743</td>\n      <td>191</td>\n      <td>32</td>\n      <td>39</td>\n      <td>33.3</td>\n      <td>63.6</td>\n    </tr>\n  </tbody>\n</table>\n</div>"
     },
     "execution_count": 9,
     "metadata": {},
     "output_type": "execute_result"
    }
   ],
   "source": [
    "df = pd.read_csv(\"051.csv\")\n",
    "df.head()"
   ]
  },
  {
   "cell_type": "code",
   "execution_count": 5,
   "id": "624d2204",
   "metadata": {
    "pycharm": {
     "name": "#%%\n"
    }
   },
   "outputs": [
    {
     "data": {
      "text/plain": "               lat          lon          alt       height      heading  \\\ncount  3445.000000  3445.000000  3445.000000  3445.000000  3445.000000   \nmean     24.807654   121.041968    85.490369    33.884901    -6.073626   \nstd       0.001003     0.000628    34.145397    34.181399   102.208909   \nmin      24.805494   121.040278    50.737624    -0.442857  -175.775000   \n25%      24.807417   121.041692    51.911553     0.000000   -77.575000   \n50%      24.807446   121.042088    70.567981    18.966667     6.400000   \n75%      24.807929   121.042321   106.451909    55.266667   103.087500   \nmax      24.810198   121.043024   147.315130    95.425001   172.500000   \n\n             pitch    roll          time          co2         tvoc  \\\ncount  3445.000000  3445.0  3.445000e+03  3445.000000  3445.000000   \nmean    -52.153497     0.0  2.021052e+13   213.185776    12.240348   \nstd      11.935065     0.0  2.653386e+03   233.374355    40.907700   \nmin     -89.925000     0.0  2.021052e+13     0.000000     0.000000   \n25%     -55.000000     0.0  2.021052e+13     0.000000     0.000000   \n50%     -55.000000     0.0  2.021052e+13     0.000000     0.000000   \n75%     -55.000000     0.0  2.021052e+13   423.000000    13.000000   \nmax       0.000000     0.0  2.021052e+13  1220.000000   456.000000   \n\n              pm25         pm10  temperature     humidity  \ncount  3445.000000  3445.000000  3445.000000  3445.000000  \nmean     18.209579    22.463861    14.815762    33.562409  \nstd      19.297481    23.815936    15.685155    35.176897  \nmin       0.000000     0.000000     0.000000     0.000000  \n25%       0.000000     0.000000     0.000000     0.000000  \n50%       0.000000     0.000000     0.000000     0.000000  \n75%      38.000000    47.000000    30.400000    70.800000  \nmax      54.000000    67.000000   130.900000   100.900000  ",
      "text/html": "<div>\n<style scoped>\n    .dataframe tbody tr th:only-of-type {\n        vertical-align: middle;\n    }\n\n    .dataframe tbody tr th {\n        vertical-align: top;\n    }\n\n    .dataframe thead th {\n        text-align: right;\n    }\n</style>\n<table border=\"1\" class=\"dataframe\">\n  <thead>\n    <tr style=\"text-align: right;\">\n      <th></th>\n      <th>lat</th>\n      <th>lon</th>\n      <th>alt</th>\n      <th>height</th>\n      <th>heading</th>\n      <th>pitch</th>\n      <th>roll</th>\n      <th>time</th>\n      <th>co2</th>\n      <th>tvoc</th>\n      <th>pm25</th>\n      <th>pm10</th>\n      <th>temperature</th>\n      <th>humidity</th>\n    </tr>\n  </thead>\n  <tbody>\n    <tr>\n      <th>count</th>\n      <td>3445.000000</td>\n      <td>3445.000000</td>\n      <td>3445.000000</td>\n      <td>3445.000000</td>\n      <td>3445.000000</td>\n      <td>3445.000000</td>\n      <td>3445.0</td>\n      <td>3.445000e+03</td>\n      <td>3445.000000</td>\n      <td>3445.000000</td>\n      <td>3445.000000</td>\n      <td>3445.000000</td>\n      <td>3445.000000</td>\n      <td>3445.000000</td>\n    </tr>\n    <tr>\n      <th>mean</th>\n      <td>24.807654</td>\n      <td>121.041968</td>\n      <td>85.490369</td>\n      <td>33.884901</td>\n      <td>-6.073626</td>\n      <td>-52.153497</td>\n      <td>0.0</td>\n      <td>2.021052e+13</td>\n      <td>213.185776</td>\n      <td>12.240348</td>\n      <td>18.209579</td>\n      <td>22.463861</td>\n      <td>14.815762</td>\n      <td>33.562409</td>\n    </tr>\n    <tr>\n      <th>std</th>\n      <td>0.001003</td>\n      <td>0.000628</td>\n      <td>34.145397</td>\n      <td>34.181399</td>\n      <td>102.208909</td>\n      <td>11.935065</td>\n      <td>0.0</td>\n      <td>2.653386e+03</td>\n      <td>233.374355</td>\n      <td>40.907700</td>\n      <td>19.297481</td>\n      <td>23.815936</td>\n      <td>15.685155</td>\n      <td>35.176897</td>\n    </tr>\n    <tr>\n      <th>min</th>\n      <td>24.805494</td>\n      <td>121.040278</td>\n      <td>50.737624</td>\n      <td>-0.442857</td>\n      <td>-175.775000</td>\n      <td>-89.925000</td>\n      <td>0.0</td>\n      <td>2.021052e+13</td>\n      <td>0.000000</td>\n      <td>0.000000</td>\n      <td>0.000000</td>\n      <td>0.000000</td>\n      <td>0.000000</td>\n      <td>0.000000</td>\n    </tr>\n    <tr>\n      <th>25%</th>\n      <td>24.807417</td>\n      <td>121.041692</td>\n      <td>51.911553</td>\n      <td>0.000000</td>\n      <td>-77.575000</td>\n      <td>-55.000000</td>\n      <td>0.0</td>\n      <td>2.021052e+13</td>\n      <td>0.000000</td>\n      <td>0.000000</td>\n      <td>0.000000</td>\n      <td>0.000000</td>\n      <td>0.000000</td>\n      <td>0.000000</td>\n    </tr>\n    <tr>\n      <th>50%</th>\n      <td>24.807446</td>\n      <td>121.042088</td>\n      <td>70.567981</td>\n      <td>18.966667</td>\n      <td>6.400000</td>\n      <td>-55.000000</td>\n      <td>0.0</td>\n      <td>2.021052e+13</td>\n      <td>0.000000</td>\n      <td>0.000000</td>\n      <td>0.000000</td>\n      <td>0.000000</td>\n      <td>0.000000</td>\n      <td>0.000000</td>\n    </tr>\n    <tr>\n      <th>75%</th>\n      <td>24.807929</td>\n      <td>121.042321</td>\n      <td>106.451909</td>\n      <td>55.266667</td>\n      <td>103.087500</td>\n      <td>-55.000000</td>\n      <td>0.0</td>\n      <td>2.021052e+13</td>\n      <td>423.000000</td>\n      <td>13.000000</td>\n      <td>38.000000</td>\n      <td>47.000000</td>\n      <td>30.400000</td>\n      <td>70.800000</td>\n    </tr>\n    <tr>\n      <th>max</th>\n      <td>24.810198</td>\n      <td>121.043024</td>\n      <td>147.315130</td>\n      <td>95.425001</td>\n      <td>172.500000</td>\n      <td>0.000000</td>\n      <td>0.0</td>\n      <td>2.021052e+13</td>\n      <td>1220.000000</td>\n      <td>456.000000</td>\n      <td>54.000000</td>\n      <td>67.000000</td>\n      <td>130.900000</td>\n      <td>100.900000</td>\n    </tr>\n  </tbody>\n</table>\n</div>"
     },
     "execution_count": 5,
     "metadata": {},
     "output_type": "execute_result"
    }
   ],
   "source": [
    "df.describe()"
   ]
  },
  {
   "cell_type": "code",
   "execution_count": 10,
   "id": "4ff8db49",
   "metadata": {
    "pycharm": {
     "name": "#%%\n"
    }
   },
   "outputs": [
    {
     "name": "stderr",
     "output_type": "stream",
     "text": [
      "\n",
      "KeyboardInterrupt\n",
      "\n"
     ]
    }
   ],
   "source": [
    "#choose data\n",
    "df_lon, df_lat, df_alt = (df['lon'].values,\n",
    "                 df['lat'].values,\n",
    "                 df['alt'].values)\n",
    "# cube = [lon lat alt]\n",
    "lat, lon, alt = np.meshgrid(df_lat, df_lon, df_alt, sparse=True)\n",
    "print(lon.shape,lat.shape,alt.shape)\n",
    "#cube = lon+lat+alt\n",
    "cube = lon+lat+alt\n",
    "#print(cube)"
   ]
  },
  {
   "cell_type": "code",
   "execution_count": null,
   "id": "0b579d93",
   "metadata": {
    "pycharm": {
     "name": "#%%\n"
    }
   },
   "outputs": [],
   "source": []
  }
 ],
 "metadata": {
  "kernelspec": {
   "display_name": "Python 3 (ipykernel)",
   "language": "python",
   "name": "python3"
  },
  "language_info": {
   "codemirror_mode": {
    "name": "ipython",
    "version": 3
   },
   "file_extension": ".py",
   "mimetype": "text/x-python",
   "name": "python",
   "nbconvert_exporter": "python",
   "pygments_lexer": "ipython3",
   "version": "3.9.12"
  }
 },
 "nbformat": 4,
 "nbformat_minor": 5
}